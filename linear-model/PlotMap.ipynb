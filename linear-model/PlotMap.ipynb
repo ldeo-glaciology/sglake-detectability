{
 "cells": [
  {
   "cell_type": "markdown",
   "metadata": {},
   "source": [
    "# Interactive notebook for plotting a map of the minimum subglacial lake size that is detectable by altimetry in Antarctica\n",
    "\n",
    "This notebook accompanies a manuscript (in preparation) that explores the limitations of using altimetry to detect subglacial lake filling/draining events, quantify water volume change, and estimate lake lengths:\n",
    ">Stubblefield, A. G., Creyts, T. T., Kingslake, J., Siegfried, M.R. & Spiegelman, M. (2021). Detectability of Active Subglacial Lakes by Altimetry. *In preparation for GRL*.\n",
    "\n",
    "## Model description\n",
    "### Governing equation\n",
    "The main assumptions/approximations in deriving the governing equation are (1) ice flows as a linearly viscous fluid, (2) the basal sliding law is also linear (sliding velocity $\\propto$ shear stress) , and (3) the initial domain is an infinite strip with finite thickness (the ice thickness).\n",
    "\n",
    "\n",
    "The model is a small-perturbation approximation of the Stokes equations, where the perturbations are relative to the cryostatic state. The problem is solved via spatial Fourier transforms. We scale the spatial coordinate relative to the ice thickness $H$, time relative to the oscillation period $t_p$, and elevation relative to the oscillation amplitude $\\mathcal{A}$. With this scaling, the transformed elevation evolves according to\n",
    "\n",
    "$$ \\frac{\\partial \\widehat{h}}{\\partial t}=-\\lambda\\mathcal{R}\\widehat{h}+ \\mathcal{T}\\widehat{w}_b $$\n",
    "\n",
    "where \n",
    "- $\\widehat{h}$ is the transformed elevation anomaly $h$, \n",
    "- $\\widehat{w}_b$ is the transformed basal velocity anomaly $w_b$, \n",
    "- $\\mathcal{T}$ is a base-to-surface transfer function, \n",
    "- $\\mathcal{R}$ is a viscous relaxation function.\n",
    "\n",
    "This equation is essentially an ODE in time (for each wavenumber), so $\\widehat{h}$ can be solved for analytically (perhaps up to quadrature) in frequency space. The solution $h$ in physical space is then obtained via the inverse Fourier transform. \n",
    "\n",
    "### Nondimensional parameter 1: $\\lambda$ \n",
    "The first parameter is\n",
    "\n",
    "\\begin{align}\n",
    "\\lambda = \\frac{t_p}{t_r} \n",
    "\\end{align}\n",
    "\n",
    "where \n",
    "\n",
    "\\begin{align}\n",
    "t_r = \\frac{4\\pi\\eta}{\\rho_i g H}\n",
    "\\end{align}\n",
    "\n",
    "is the characteristic relaxation time for harmonic perturbations with wavelength equal to the ice thickness $H$.\n",
    "$\\lambda$ controls the viscous relaxation of the upper surface. For small $\\lambda$, the surface does not relax very much, leading to better correspondence between surface and base. For large $\\lambda$, viscous relaxation spreads out and dampens the basal anomaly, leading to worse (or *no*) correspondence between surface and base.\n",
    "\n",
    "### Nondimensional parameter 2: $\\beta_\\star$\n",
    "The second parameter, hidden in the definitions of $\\mathcal{R}$ and $\\mathcal{T}$, is a nondimensional basal friction parameter:\n",
    "\n",
    "$$\\beta_\\star = \\frac{\\beta H}{2\\eta}, $$\n",
    "\n",
    "where $\\beta$ (Pa s/m) is the *dimensional* basal friction coefficient. High friction is associated with good correspondence between the surface and basal anomaly; low friction is associated with worse correspondence.\n",
    "\n",
    "### Nondimensional parameter 3: $w_b$ \n",
    "Here, we consider basal velocity perturbations of the form\n",
    "\n",
    "$$ w_b(x,t) = \\exp\\left(-\\frac{x^2}{2\\sigma^2}\\right)\\sin(t), $$\n",
    "\n",
    "just a (spatial) Gaussian bump that oscillates in time. Note that time has been scaled by $t_p$, and vertical velocity has been scaled by $\\mathcal{A}/t_p$. \n",
    "\n",
    "We define the length of the subglacial lake to be $L_\\mathrm{true} = 6\\sigma$, since the lake boundary coincides with where the vertical velocity anomaly approaches zero.\n",
    "\n",
    "### Estimated lake length\n",
    "We define the estimated lake length $L_\\mathrm{est}$ as the length of the region where surface displacement exceeds some threshold:\n",
    "\n",
    "$$ L_\\mathrm{est} \\equiv \\text{length of region where } \\Delta h > \\delta_d\\, / \\,\\mathcal{A},$$\n",
    "\n",
    "where $\\Delta h$ is the surface displacement between highstand and lowstand, and $\\delta_d$ is a fixed dimensional displacement threhold (10 cm here).\n",
    "\n",
    "### The main point is that  $L_\\mathrm{est}$ can be ZERO (i.e., the lake is NOT detectable by altimetry) if... \n",
    "1. the ice is thick ($H$ large), \n",
    "2. the bed is slippery ($\\beta$ small),\n",
    "3. the oscillation is slow ($t_p$ large), or \n",
    "4. the oscillation is low-amplitude ($\\mathcal{A}$ small)!\n",
    "\n",
    "## Goal\n",
    "The primary (dimensional) parameters we are interested in above are \n",
    "- Ice thickness $H$\n",
    "- Basal friction coefficient $\\beta$\n",
    "\n",
    "...we have maps of how these vary across the Antarctic Ice Sheet! \n",
    "\n",
    "The free parameters that we can set are\n",
    "\n",
    "- Oscillation amplitude $\\mathcal{A}$\n",
    "- Oscillation period $t_p$\n",
    "- Subglacial lake length $L_\\mathrm{true}$\n",
    "\n",
    "### Smallest detectable subglacial lake length\n",
    "For a given $t_p$ and $\\mathcal{A}$, this notebook uses the ice thickness and friction maps to construct a map of the smallest lake length $L_\\mathrm{true}$ that is detectable by altimetry. In other words, we define the minimum\n",
    "detectable subglacial lake size via\n",
    "\n",
    "$$L_\\mathrm{min} \\equiv \\text{lake size where $L_\\mathrm{est}\\to 0$ transition occurs} $$"
   ]
  },
  {
   "cell_type": "markdown",
   "metadata": {},
   "source": [
    "# Code"
   ]
  },
  {
   "cell_type": "code",
   "execution_count": null,
   "metadata": {},
   "outputs": [],
   "source": [
    "# import everything...\n",
    "import numpy as np\n",
    "import matplotlib as mpl\n",
    "import matplotlib.pyplot as plt\n",
    "from scipy.interpolate import interp2d\n",
    "import copy\n",
    "import xarray as xr\n",
    "import fsspec\n",
    "# define some functions\n",
    "%run Functions.ipynb"
   ]
  },
  {
   "cell_type": "markdown",
   "metadata": {},
   "source": [
    "## 1. Model parameters\n",
    "Change the amplitude  `amp` ($\\mathcal{A}$) and the oscillation period `t_pd` ($t_p$) to see the effect on the minimum detectable lake size"
   ]
  },
  {
   "cell_type": "code",
   "execution_count": null,
   "metadata": {
    "collapsed": true
   },
   "outputs": [],
   "source": [
    "amp = 1                                 # oscillation amplitude at base (m)\n",
    "t_pd = 10*3.154e7                       # oscillation period (s)\n",
    "\n",
    "delta = 0.1/amp                         # dimensionless displacement threshold corresponding\n",
    "                                        # to dimensional threshold of 0.1 m\n",
    "\n",
    "rho = 917.0                             # ice density kg/m^3\n",
    "g = 9.81                                # gravitational acceleration m^2/s\n",
    "eta = 1e12                              # constant viscosity (Pa s)\n",
    "\n",
    "Ls = np.linspace(100,1,101)             # array of lake lengths (relative to ice thickness)\n",
    "                                        # for computing the minimum detectable lake size\n",
    "                                        # default minmium value = 1, maximum value = 100.\n",
    "\n",
    "N_pts = 20                              # number of ice thickness and friction\n",
    "                                        # values (between max and min values from data)\n",
    "                                        # for constructing minimum lake size function"
   ]
  },
  {
   "cell_type": "markdown",
   "metadata": {},
   "source": [
    "## 2. Load data\n",
    "Next we load ice thickness and basal friction coefficient maps featured in the paper:\n",
    ">Arthern, R. J., Hindmarsh, R. C., & Williams, C. R. (2015). Flow speed within the Antarctic ice sheet and its controls inferred from satellite observations. Journal of Geophysical Research: Earth Surface, 120(7), 1171-1188."
   ]
  },
  {
   "cell_type": "code",
   "execution_count": null,
   "metadata": {
    "collapsed": true
   },
   "outputs": [],
   "source": [
    "H_beta_mapper = fsspec.get_mapper('gs://ldeo-glaciology/bedmachine/H_beta.zarr', mode='ab')\n",
    "H_beta = xr.open_zarr(H_beta_mapper)  \n",
    "H_beta.load()\n",
    "Xv, Yv = np.meshgrid(H_beta.x,H_beta.y) # horizontal map coordinates\n",
    "beta_d = H_beta.beta.data               # (dimensional) friction coefficient (Pa s / m)\n",
    "H = H_beta.thickness.data               # ice thickness (m)"
   ]
  },
  {
   "cell_type": "markdown",
   "metadata": {},
   "source": [
    "## 3. Compute the minimum detectable lake size as a function of $H$ and $\\beta$"
   ]
  },
  {
   "cell_type": "code",
   "execution_count": null,
   "metadata": {
    "collapsed": true
   },
   "outputs": [],
   "source": [
    "# construct arrays for H and beta_d that cover the range of the data\n",
    "H_int = np.linspace(1,np.max(H),N_pts)\n",
    "beta_int = np.logspace(np.min(np.log10(beta_d)),np.max(np.log10(beta_d)),N_pts)\n",
    "\n",
    "# array for minimum lake size at every (H,beta_d) value\n",
    "min_Ls = np.zeros((np.size(H_int),np.size(beta_int)))\n",
    "\n",
    "print('Computing minimum detectable lake size as function of friction and ice thickness....')\n",
    "\n",
    "l = 0\n",
    "for i in range(np.shape(min_Ls)[0]):\n",
    "    for j in range(np.shape(min_Ls)[1]):\n",
    "        min_Ls[i,j] = get_min_Ls(Ls,beta_int[i],H_int[j])\n",
    "        if l % int(np.size(min_Ls)/10.0) == 0:\n",
    "            print(str(100*l/int(np.size(min_Ls)))+' % complete')\n",
    "        l+=1\n",
    "print(str(100*l/int(np.size(min_Ls)))+' % complete')\n",
    "print('\\n')\n",
    "\n",
    "MLS = interp2d(H_int,beta_int,min_Ls,kind='linear')"
   ]
  },
  {
   "cell_type": "markdown",
   "metadata": {},
   "source": [
    "## 4. Create the map for Antarctica by evaluating the function from previous step\n"
   ]
  },
  {
   "cell_type": "code",
   "execution_count": null,
   "metadata": {
    "collapsed": true
   },
   "outputs": [],
   "source": [
    "Ls_map = np.zeros(np.shape(beta_d))     # minimum lake length map\n",
    "\n",
    "print('Constructing map....')\n",
    "l = 0\n",
    "for i in range(np.shape(Ls_map)[0]):\n",
    "    for j in range(np.shape(Ls_map)[1]):\n",
    "        Ls_map[i,j] = MLS(H[i,j],beta_d[i,j])\n",
    "        if l % int(np.size(Ls_map)/10.0) == 0:\n",
    "            print(str(100*l/int(np.size(Ls_map)))+' % complete')\n",
    "        l+=1\n",
    "print(str(100*l/int(np.size(Ls_map)))+' % complete')\n",
    "print('\\n')\n",
    "\n",
    "# mask out ice shelves (friction is nonzero there probably for inversion purposes)\n",
    "Ls_map[beta_d<1e5] = 0"
   ]
  },
  {
   "cell_type": "markdown",
   "metadata": {},
   "source": [
    "## 5. Plot maps of the smallest detectable lake length $L_\\mathrm{min}$, ice thickness $H$, and friction coefficient $\\beta$ for the Antarctic Ice Sheet"
   ]
  },
  {
   "cell_type": "code",
   "execution_count": null,
   "metadata": {
    "collapsed": true
   },
   "outputs": [],
   "source": [
    "levels_H = np.array([0,500,1000,1500,2000,2500,3000,3500,4000,4500])/1000.0\n",
    "levels_beta = np.array([1e6,1e8,1e10,1e12,1e14,1e16])\n",
    "\n",
    "# note: you may need to modify the contour levels (levels_L) for the minimum lake length\n",
    "levels_L = np.array([0,5,10,15,20,25,30])\n",
    "\n",
    "\n",
    "cmap1 = copy.copy(mpl.cm.get_cmap(\"Blues\"))\n",
    "cmap1.set_under('mistyrose')\n",
    "\n",
    "plt.figure(figsize=(14,6))\n",
    "plt.suptitle(r'$t_p$ = '+\"{:.1f}\".format(t_pd/3.154e7)+r' yr,   $\\mathcal{A} =$ '+\"{:.1f}\".format(amp)+' m',fontsize=24)\n",
    "plt.subplot(131)\n",
    "p1 = plt.contourf(Xv/1000,Yv/1000,Ls_map*H/1000.0,cmap=cmap1,levels=levels_L,extend='both')\n",
    "plt.xticks(fontsize=12)\n",
    "plt.yticks(fontsize=12)\n",
    "plt.xlabel(r'$x$',fontsize=16)\n",
    "plt.ylabel(r'$y$',fontsize=16)\n",
    "cbar = plt.colorbar(p1,orientation='horizontal')\n",
    "cbar.set_label(r'$L_\\mathrm{min}$ (km)',fontsize=20)\n",
    "\n",
    "\n",
    "plt.subplot(132)\n",
    "plt.xticks(fontsize=12)\n",
    "plt.gca().yaxis.set_ticklabels([])\n",
    "plt.xlabel(r'$x$',fontsize=16)\n",
    "p1 = plt.contourf(Xv/1000,Yv/1000,H/1000.0,cmap=cmap1,levels=levels_H,extend='both')\n",
    "cbar = plt.colorbar(p1,orientation='horizontal')\n",
    "cbar.set_label(r'$H$ (km)',fontsize=20)\n",
    "\n",
    "plt.subplot(133)\n",
    "plt.xticks(fontsize=12)\n",
    "plt.xlabel(r'$x$',fontsize=16)\n",
    "plt.gca().yaxis.set_ticklabels([])\n",
    "p2 = plt.contourf(Xv/1000,Yv/1000,beta_d,cmap=cmap1,levels=levels_beta,norm=mpl.colors.LogNorm(),extend='both')\n",
    "cbar = plt.colorbar(p2,orientation='horizontal')\n",
    "cbar.set_label(r'$\\beta$ (Pa s / m)',fontsize=20)\n",
    "plt.grid()\n",
    "plt.tight_layout()"
   ]
  }
 ],
 "metadata": {
  "kernelspec": {
   "display_name": "Python 3",
   "language": "python",
   "name": "python3"
  },
  "language_info": {
   "codemirror_mode": {
    "name": "ipython",
    "version": 2
   },
   "file_extension": ".py",
   "mimetype": "text/x-python",
   "name": "python",
   "nbconvert_exporter": "python",
   "pygments_lexer": "ipython2",
   "version": "2.7.18"
  }
 },
 "nbformat": 4,
 "nbformat_minor": 5
}
