{
 "cells": [
  {
   "cell_type": "code",
   "execution_count": 2,
   "id": "imperial-motion",
   "metadata": {},
   "outputs": [],
   "source": [
    "import numpy as np\n",
    "import matplotlib.pyplot as plt\n",
    "from scipy.interpolate import interp2d\n",
    "from scipy.fft import fft,ifft,fftshift,fftfreq\n",
    "import matplotlib as mpl\n",
    "import numpy as np\n",
    "from scipy.io import loadmat\n",
    "import copy\n"
   ]
  },
  {
   "cell_type": "code",
   "execution_count": 3,
   "id": "heavy-skill",
   "metadata": {},
   "outputs": [],
   "source": [
    "# 1.---------------FUNCTIONS FOR COMPUTING MINIMUM DETECTABLE LAKE SIZE---------\n",
    "def get_Dj(lamda,beta_nd,w_ft,k):\n",
    "    # function for computing displacements D1 (in-phase with base) and D2 (anti-phase with base)\n",
    "    g = beta_nd/k\n",
    "\n",
    "    # relaxation function\n",
    "    R1 =  (1/k)*((1+g)*np.exp(4*k) - (2+4*g*k)*np.exp(2*k) + 1 -g)\n",
    "    D = (1+g)*np.exp(4*k) + (2*g+4*k+4*g*(k**2))*np.exp(2*k) -1 + g\n",
    "    R = R1/D\n",
    "\n",
    "    # transfer function\n",
    "    T1 = 2*(1+g)*(k+1)*np.exp(3*k) + 2*(1-g)*(k-1)*np.exp(k)\n",
    "    T = T1/D\n",
    "\n",
    "    G1 = T*w_ft\n",
    "    G2 = 1 + (lamda*R)**2\n",
    "\n",
    "    # displacements\n",
    "    D1 = ifft(G1/G2).real\n",
    "    D2 = ifft(lamda*R*G1/G2).real\n",
    "\n",
    "    return D1,D2"
   ]
  },
  {
   "cell_type": "code",
   "execution_count": 4,
   "id": "english-popularity",
   "metadata": {},
   "outputs": [],
   "source": [
    "def get_Tj(D1,D2,x):\n",
    "    # Times where elevation anomaly is maximized (T1) and minimized (T2)\n",
    "    i0 = np.argmin(np.abs(x))\n",
    "\n",
    "    T1 = np.pi - np.arctan(D2[i0]/D1[i0])\n",
    "    T2 = 2*np.pi - np.arctan(D2[i0]/D1[i0])\n",
    "\n",
    "    return T1,T2"
   ]
  },
  {
   "cell_type": "code",
   "execution_count": 5,
   "id": "challenging-grant",
   "metadata": {},
   "outputs": [],
   "source": [
    "def get_kappaj(T1,T2):\n",
    "    # weights on the displacements:\n",
    "    # kappa1 is the in-phase component\n",
    "    # kappa2 is the anti-phase component\n",
    "    kappa1 = np.cos(T2) - np.cos(T1)\n",
    "    kappa2 = np.sin(T1) - np.sin(T2)\n",
    "\n",
    "    return kappa1,kappa2"
   ]
  },
  {
   "cell_type": "code",
   "execution_count": 6,
   "id": "satellite-chair",
   "metadata": {},
   "outputs": [],
   "source": [
    "def get_Lh(Ls,beta_d,H):\n",
    "    # compute the estimated length of the lake (Lh) given the true lake length (Ls),\n",
    "    # dimensional friction (beta_d), and ice thickness (H)\n",
    "\n",
    "    # discretization in frequency domain\n",
    "    N = 2000\n",
    "    x = np.linspace(-200,200,num=N)\n",
    "    d = np.abs(x[1]-x[0])\n",
    "    k = fftfreq(N,d)   # frequency\n",
    "    k[0] = 1e-10       # set zero frequency to small number due to (integrable) singularity\n",
    "    k *= 2*np.pi       # convert to SciPy's Fourier transform definition from version (angular\n",
    "                       # freq. definition) used in model derivation\n",
    "\n",
    "    w = w_base(x,Ls)                       # compute basal velocity anomaly\n",
    "\n",
    "    w_ft = fft(w)                          # fourier transform (for numerical method)\n",
    "\n",
    "    beta_nd = beta_d*H/(2*eta)             # non-dimensional friction parameter\n",
    "                                           # relative to viscosity/ice thickness\n",
    "\n",
    "    tr =  (4*np.pi*eta)/(rho*g*H)          # relaxation time\n",
    "    lamda = t_pd/tr                        # ratio of oscillation time to relaxation time\n",
    "\n",
    "\n",
    "    D1,D2 = get_Dj(lamda,beta_nd,w_ft,k)   # compute surface displacements\n",
    "\n",
    "    T1,T2 = get_Tj(D1,D2,x)                # compute estimated highstand/lowstand times\n",
    "\n",
    "    kappa1,kappa2 = get_kappaj(T1,T2)      # compute weights for displacements\n",
    "\n",
    "    dH = kappa1*D1 + kappa2*D2             # compute surface elevation change anomaly\n",
    "\n",
    "    # compute estimated lake length\n",
    "    if np.size(x[np.abs(dH)>delta])>0:\n",
    "        x0 = x[np.abs(dH)>delta]\n",
    "    else:\n",
    "        x0 = 0*x\n",
    "\n",
    "    Lh = 2*np.max(x0)                 # (problem is symmetric with respect to x)\n",
    "\n",
    "    return Lh"
   ]
  },
  {
   "cell_type": "code",
   "execution_count": 7,
   "id": "chronic-hobby",
   "metadata": {},
   "outputs": [],
   "source": [
    "def get_min_Ls(Ls,beta_d,H):\n",
    "    # compute the minimum detectable lake size by starting with a huge lake size\n",
    "    # and gradually decreasing it until the estimated lake length vanishes\n",
    "\n",
    "    Ls_min = Ls[-1]                 # initialize as smallest lake size in case\n",
    "                                    # all lake sizes are detectable\n",
    "\n",
    "    for i in range(np.size(Ls)):\n",
    "        Lh = get_Lh(Ls[i],beta_d,H)\n",
    "\n",
    "        if Lh < 1e-5:\n",
    "            Ls_min = Ls[i]\n",
    "            break\n",
    "\n",
    "    return Ls_min"
   ]
  },
  {
   "cell_type": "code",
   "execution_count": null,
   "id": "painted-simulation",
   "metadata": {},
   "outputs": [],
   "source": [
    "# function for spatial component of basal vertical velocity anomaly\n",
    "# default is a Gaussian\n",
    "def w_base(x,Ls):\n",
    "    sigma = Ls/6                        # define standard deviation for Gaussian\n",
    "    w = np.exp(-0.5*(x/sigma)**2)\n",
    "    return w\n"
   ]
  }
 ],
 "metadata": {
  "kernelspec": {
   "display_name": "Python 3",
   "language": "python",
   "name": "python3"
  },
  "language_info": {
   "codemirror_mode": {
    "name": "ipython",
    "version": 3
   },
   "file_extension": ".py",
   "mimetype": "text/x-python",
   "name": "python",
   "nbconvert_exporter": "python",
   "pygments_lexer": "ipython3",
   "version": "3.8.6"
  }
 },
 "nbformat": 4,
 "nbformat_minor": 5
}
